{
  "cells": [
    {
      "cell_type": "code",
      "execution_count": 1,
      "metadata": {
        "id": "OGPfCyacLdQ4"
      },
      "outputs": [],
      "source": [
        "#---------------------------------Torch Modules --------------------------------------------------------\n",
        "from __future__ import print_function\n",
        "import numpy as np\n",
        "import pandas as pd\n",
        "import torch.nn as nn\n",
        "import math\n",
        "import torch.nn.functional as F\n",
        "import torch\n",
        "import torchvision\n",
        "from torch.nn import init\n",
        "import torch.optim as optim\n",
        "from torchvision import datasets, transforms\n",
        "from torchvision import models\n",
        "import torch.nn.functional as F\n",
        "from torch.utils import data\n",
        "import matplotlib.pyplot as plt"
      ]
    },
    {
      "cell_type": "code",
      "execution_count": 2,
      "metadata": {
        "id": "uEW5B2pQLhoe"
      },
      "outputs": [],
      "source": [
        "###-----------------------------------variables-----------------------------------------------\n",
        "# for Normalization\n",
        "mean = [0.5]\n",
        "std = [0.5]\n",
        "# batch size\n",
        "BATCH_SIZE = 31\n",
        "Iterations = 5\n",
        "learning_rate = 0.001"
      ]
    },
    {
      "cell_type": "code",
      "execution_count": 3,
      "metadata": {
        "colab": {
          "base_uri": "https://localhost:8080/"
        },
        "id": "UhTrOKFVLmhs",
        "outputId": "a41fd1ab-2e6d-420b-d165-bd6e96fce101"
      },
      "outputs": [
        {
          "output_type": "stream",
          "name": "stdout",
          "text": [
            "Downloading http://yann.lecun.com/exdb/mnist/train-images-idx3-ubyte.gz\n",
            "Failed to download (trying next):\n",
            "HTTP Error 403: Forbidden\n",
            "\n",
            "Downloading https://ossci-datasets.s3.amazonaws.com/mnist/train-images-idx3-ubyte.gz\n",
            "Downloading https://ossci-datasets.s3.amazonaws.com/mnist/train-images-idx3-ubyte.gz to ./mnist/MNIST/raw/train-images-idx3-ubyte.gz\n"
          ]
        },
        {
          "output_type": "stream",
          "name": "stderr",
          "text": [
            "100%|██████████| 9912422/9912422 [00:00<00:00, 27431940.09it/s]\n"
          ]
        },
        {
          "output_type": "stream",
          "name": "stdout",
          "text": [
            "Extracting ./mnist/MNIST/raw/train-images-idx3-ubyte.gz to ./mnist/MNIST/raw\n",
            "\n",
            "Downloading http://yann.lecun.com/exdb/mnist/train-labels-idx1-ubyte.gz\n",
            "Failed to download (trying next):\n",
            "HTTP Error 403: Forbidden\n",
            "\n",
            "Downloading https://ossci-datasets.s3.amazonaws.com/mnist/train-labels-idx1-ubyte.gz\n",
            "Downloading https://ossci-datasets.s3.amazonaws.com/mnist/train-labels-idx1-ubyte.gz to ./mnist/MNIST/raw/train-labels-idx1-ubyte.gz\n"
          ]
        },
        {
          "output_type": "stream",
          "name": "stderr",
          "text": [
            "100%|██████████| 28881/28881 [00:00<00:00, 1197265.13it/s]\n"
          ]
        },
        {
          "output_type": "stream",
          "name": "stdout",
          "text": [
            "Extracting ./mnist/MNIST/raw/train-labels-idx1-ubyte.gz to ./mnist/MNIST/raw\n",
            "\n",
            "Downloading http://yann.lecun.com/exdb/mnist/t10k-images-idx3-ubyte.gz\n",
            "Failed to download (trying next):\n",
            "HTTP Error 403: Forbidden\n",
            "\n",
            "Downloading https://ossci-datasets.s3.amazonaws.com/mnist/t10k-images-idx3-ubyte.gz\n",
            "Downloading https://ossci-datasets.s3.amazonaws.com/mnist/t10k-images-idx3-ubyte.gz to ./mnist/MNIST/raw/t10k-images-idx3-ubyte.gz\n"
          ]
        },
        {
          "output_type": "stream",
          "name": "stderr",
          "text": [
            "100%|██████████| 1648877/1648877 [00:00<00:00, 9026210.35it/s]\n"
          ]
        },
        {
          "output_type": "stream",
          "name": "stdout",
          "text": [
            "Extracting ./mnist/MNIST/raw/t10k-images-idx3-ubyte.gz to ./mnist/MNIST/raw\n",
            "\n",
            "Downloading http://yann.lecun.com/exdb/mnist/t10k-labels-idx1-ubyte.gz\n",
            "Failed to download (trying next):\n",
            "HTTP Error 403: Forbidden\n",
            "\n",
            "Downloading https://ossci-datasets.s3.amazonaws.com/mnist/t10k-labels-idx1-ubyte.gz\n",
            "Downloading https://ossci-datasets.s3.amazonaws.com/mnist/t10k-labels-idx1-ubyte.gz to ./mnist/MNIST/raw/t10k-labels-idx1-ubyte.gz\n"
          ]
        },
        {
          "output_type": "stream",
          "name": "stderr",
          "text": [
            "100%|██████████| 4542/4542 [00:00<00:00, 8429437.51it/s]\n"
          ]
        },
        {
          "output_type": "stream",
          "name": "stdout",
          "text": [
            "Extracting ./mnist/MNIST/raw/t10k-labels-idx1-ubyte.gz to ./mnist/MNIST/raw\n",
            "\n"
          ]
        }
      ],
      "source": [
        "##-----------------------------------Commands to download and perpare the MNIST dataset ------------------------------------\n",
        "train_transform = transforms.Compose([\n",
        "        transforms.ToTensor(),\n",
        "        transforms.Normalize(mean, std)\n",
        "        ])\n",
        "\n",
        "test_transform = transforms.Compose([\n",
        "        transforms.ToTensor(),\n",
        "        transforms.Normalize(mean, std)\n",
        "        ])\n",
        "\n",
        "\n",
        "train_loader = torch.utils.data.DataLoader(\n",
        "        datasets.MNIST('./mnist', train=True, download=True,\n",
        "                       transform=train_transform),\n",
        "        batch_size=BATCH_SIZE, shuffle=True) # train dataset\n",
        "\n",
        "test_loader = torch.utils.data.DataLoader(\n",
        "        datasets.MNIST('./mnist', train=False,\n",
        "                         transform=test_transform),\n",
        "        batch_size=BATCH_SIZE, shuffle=False) # test dataset"
      ]
    },
    {
      "cell_type": "code",
      "execution_count": 4,
      "metadata": {
        "colab": {
          "base_uri": "https://localhost:8080/",
          "height": 844
        },
        "id": "QvE16Ty9Lm9P",
        "outputId": "21806b0f-3d04-4116-b28e-0ffef427385b"
      },
      "outputs": [
        {
          "output_type": "stream",
          "name": "stdout",
          "text": [
            "Downloading http://yann.lecun.com/exdb/mnist/train-images-idx3-ubyte.gz\n",
            "Failed to download (trying next):\n",
            "HTTP Error 403: Forbidden\n",
            "\n",
            "Downloading https://ossci-datasets.s3.amazonaws.com/mnist/train-images-idx3-ubyte.gz\n",
            "Downloading https://ossci-datasets.s3.amazonaws.com/mnist/train-images-idx3-ubyte.gz to ../data/MNIST/raw/train-images-idx3-ubyte.gz\n"
          ]
        },
        {
          "output_type": "stream",
          "name": "stderr",
          "text": [
            "100%|██████████| 9912422/9912422 [00:00<00:00, 29801240.95it/s]\n"
          ]
        },
        {
          "output_type": "stream",
          "name": "stdout",
          "text": [
            "Extracting ../data/MNIST/raw/train-images-idx3-ubyte.gz to ../data/MNIST/raw\n",
            "\n",
            "Downloading http://yann.lecun.com/exdb/mnist/train-labels-idx1-ubyte.gz\n",
            "Failed to download (trying next):\n",
            "HTTP Error 403: Forbidden\n",
            "\n",
            "Downloading https://ossci-datasets.s3.amazonaws.com/mnist/train-labels-idx1-ubyte.gz\n",
            "Downloading https://ossci-datasets.s3.amazonaws.com/mnist/train-labels-idx1-ubyte.gz to ../data/MNIST/raw/train-labels-idx1-ubyte.gz\n"
          ]
        },
        {
          "output_type": "stream",
          "name": "stderr",
          "text": [
            "100%|██████████| 28881/28881 [00:00<00:00, 1325959.63it/s]"
          ]
        },
        {
          "output_type": "stream",
          "name": "stdout",
          "text": [
            "Extracting ../data/MNIST/raw/train-labels-idx1-ubyte.gz to ../data/MNIST/raw\n",
            "\n",
            "Downloading http://yann.lecun.com/exdb/mnist/t10k-images-idx3-ubyte.gz\n"
          ]
        },
        {
          "output_type": "stream",
          "name": "stderr",
          "text": [
            "\n"
          ]
        },
        {
          "output_type": "stream",
          "name": "stdout",
          "text": [
            "Failed to download (trying next):\n",
            "HTTP Error 403: Forbidden\n",
            "\n",
            "Downloading https://ossci-datasets.s3.amazonaws.com/mnist/t10k-images-idx3-ubyte.gz\n",
            "Downloading https://ossci-datasets.s3.amazonaws.com/mnist/t10k-images-idx3-ubyte.gz to ../data/MNIST/raw/t10k-images-idx3-ubyte.gz\n"
          ]
        },
        {
          "output_type": "stream",
          "name": "stderr",
          "text": [
            "100%|██████████| 1648877/1648877 [00:00<00:00, 8919495.51it/s]\n"
          ]
        },
        {
          "output_type": "stream",
          "name": "stdout",
          "text": [
            "Extracting ../data/MNIST/raw/t10k-images-idx3-ubyte.gz to ../data/MNIST/raw\n",
            "\n",
            "Downloading http://yann.lecun.com/exdb/mnist/t10k-labels-idx1-ubyte.gz\n",
            "Failed to download (trying next):\n",
            "HTTP Error 403: Forbidden\n",
            "\n",
            "Downloading https://ossci-datasets.s3.amazonaws.com/mnist/t10k-labels-idx1-ubyte.gz\n",
            "Downloading https://ossci-datasets.s3.amazonaws.com/mnist/t10k-labels-idx1-ubyte.gz to ../data/MNIST/raw/t10k-labels-idx1-ubyte.gz\n"
          ]
        },
        {
          "output_type": "stream",
          "name": "stderr",
          "text": [
            "100%|██████████| 4542/4542 [00:00<00:00, 488525.20it/s]\n"
          ]
        },
        {
          "output_type": "stream",
          "name": "stdout",
          "text": [
            "Extracting ../data/MNIST/raw/t10k-labels-idx1-ubyte.gz to ../data/MNIST/raw\n",
            "\n"
          ]
        },
        {
          "output_type": "display_data",
          "data": {
            "text/plain": [
              "<Figure size 1350x300 with 18 Axes>"
            ],
            "image/png": "[encoded data removed]"
          },
          "metadata": {}
        }
      ],
      "source": [
        "\n",
        "def show_images(imgs, num_rows, num_cols, titles=None, scale=1.5): #@save\n",
        "    \"\"\"Plot a list of images.\"\"\"\n",
        "    figsize = (num_cols * scale, num_rows * scale)\n",
        "    _, axes = plt.subplots(num_rows, num_cols, figsize=figsize)\n",
        "    axes = axes.flatten()\n",
        "    for i, (ax, img) in enumerate(zip(axes, imgs)):\n",
        "      if torch.is_tensor(img):\n",
        "        # Tensor Image\n",
        "        ax.imshow(img.numpy())\n",
        "    else:\n",
        "      # PIL Image\n",
        "      ax.imshow(img)\n",
        "      ax.axes.get_xaxis().set_visible(False)\n",
        "      ax.axes.get_yaxis().set_visible(False)\n",
        "    if titles:\n",
        "      ax.set_title(titles[i])\n",
        "    return axes\n",
        "mnist_train = torchvision.datasets.MNIST(root=\"../data\", train=True,\n",
        "transform=train_transform,\n",
        "download=True)\n",
        "X, y = next(iter(data.DataLoader(mnist_train, batch_size=18)))\n",
        "show_images(X.reshape(18, 28, 28), 2, 9);\n"
      ]
    },
    {
      "cell_type": "code",
      "execution_count": 5,
      "metadata": {
        "id": "1ZuufwhNLspQ"
      },
      "outputs": [],
      "source": [
        "# Same as linear regression!\n",
        "class SoftmaxRegressionModel(nn.Module):\n",
        "    def __init__(self, input_dim, output_dim):\n",
        "        super(SoftmaxRegressionModel, self).__init__()\n",
        "        self.linear = nn.Linear(input_dim, output_dim)\n",
        "\n",
        "    def forward(self, x):\n",
        "        out = self.linear(x)\n",
        "        return out"
      ]
    },
    {
      "cell_type": "code",
      "execution_count": 6,
      "metadata": {
        "id": "I8VHKnWzL5fw"
      },
      "outputs": [],
      "source": [
        "input_dim = 28*28\n",
        "output_dim = 10\n",
        "\n",
        "model = SoftmaxRegressionModel(input_dim, output_dim)"
      ]
    },
    {
      "cell_type": "code",
      "execution_count": 7,
      "metadata": {
        "id": "SToZ9bx3MEdm"
      },
      "outputs": [],
      "source": [
        "## Loss function\n",
        "criterion = torch.nn.CrossEntropyLoss() # pytorch's cross entropy loss function\n",
        "\n",
        "# definin which paramters to train only the CNN model parameters\n",
        "optimizer = torch.optim.SGD(model.parameters(),learning_rate)"
      ]
    },
    {
      "cell_type": "code",
      "execution_count": 8,
      "metadata": {
        "id": "kpM2dxQ9Maw2"
      },
      "outputs": [],
      "source": [
        "# defining the training function\n",
        "# Train baseline classifier on clean data\n",
        "def train(model, optimizer,criterion,epoch):\n",
        "    model.train() # setting up for training\n",
        "    for batch_idx, (data, target) in enumerate(train_loader): # data contains the image and target contains the label = 0/1/2/3/4/5/6/7/8/9\n",
        "        data = data.view(-1, 28*28).requires_grad_()\n",
        "        optimizer.zero_grad() # setting gradient to zero\n",
        "        output = model(data) # forward\n",
        "        loss = criterion(output, target) # loss computation\n",
        "        loss.backward() # back propagation here pytorch will take care of it\n",
        "        optimizer.step() # updating the weight values\n",
        "        if batch_idx % 100 == 0:\n",
        "            print('Train Epoch: {} [{}/{} ({:.0f}%)]\\tLoss: {:.6f}'.format(\n",
        "                epoch, batch_idx * len(data), len(train_loader.dataset),\n",
        "                100. * batch_idx / len(train_loader), loss.item()))"
      ]
    },
    {
      "cell_type": "code",
      "execution_count": 9,
      "metadata": {
        "id": "aymDmEx0Mchf"
      },
      "outputs": [],
      "source": [
        "# to evaluate the model\n",
        "## validation of test accuracy\n",
        "def test(model, criterion, val_loader, epoch):\n",
        "    model.eval()\n",
        "    test_loss = 0\n",
        "    correct = 0\n",
        "\n",
        "    with torch.no_grad():\n",
        "        for batch_idx, (data, target) in enumerate(val_loader):\n",
        "            data = data.view(-1, 28*28).requires_grad_()\n",
        "            output = model(data)\n",
        "            test_loss += criterion(output, target).item() # sum up batch loss\n",
        "            pred = output.max(1, keepdim=True)[1] # get the index of the max log-probability\n",
        "            correct += pred.eq(target.view_as(pred)).sum().item() # if pred == target then correct +=1\n",
        "\n",
        "    test_loss /= len(val_loader.dataset) # average test loss\n",
        "    print('\\nTest set: Average loss: {:.4f}, Accuracy: {}/{} ({:.4f}%)\\n'.format(\n",
        "        test_loss, correct, val_loader.sampler.__len__(),\n",
        "        100. * correct / val_loader.sampler.__len__() ))"
      ]
    },
    {
      "cell_type": "code",
      "execution_count": 10,
      "metadata": {
        "colab": {
          "base_uri": "https://localhost:8080/"
        },
        "id": "LYSlzeuFMnpv",
        "outputId": "08619703-3237-408a-b237-74d37db641fd"
      },
      "outputs": [
        {
          "output_type": "stream",
          "name": "stdout",
          "text": [
            "Train Epoch: 0 [0/60000 (0%)]\tLoss: 2.521028\n",
            "Train Epoch: 0 [3100/60000 (5%)]\tLoss: 1.773771\n",
            "Train Epoch: 0 [6200/60000 (10%)]\tLoss: 1.657862\n",
            "Train Epoch: 0 [9300/60000 (15%)]\tLoss: 1.605850\n",
            "Train Epoch: 0 [12400/60000 (21%)]\tLoss: 1.463662\n",
            "Train Epoch: 0 [15500/60000 (26%)]\tLoss: 1.277197\n",
            "Train Epoch: 0 [18600/60000 (31%)]\tLoss: 1.430853\n",
            "Train Epoch: 0 [21700/60000 (36%)]\tLoss: 1.174922\n",
            "Train Epoch: 0 [24800/60000 (41%)]\tLoss: 0.951727\n",
            "Train Epoch: 0 [27900/60000 (46%)]\tLoss: 0.749819\n",
            "Train Epoch: 0 [31000/60000 (52%)]\tLoss: 0.894521\n",
            "Train Epoch: 0 [34100/60000 (57%)]\tLoss: 0.855961\n",
            "Train Epoch: 0 [37200/60000 (62%)]\tLoss: 0.819895\n",
            "Train Epoch: 0 [40300/60000 (67%)]\tLoss: 0.689629\n",
            "Train Epoch: 0 [43400/60000 (72%)]\tLoss: 0.968970\n",
            "Train Epoch: 0 [46500/60000 (77%)]\tLoss: 0.692913\n",
            "Train Epoch: 0 [49600/60000 (83%)]\tLoss: 0.860058\n",
            "Train Epoch: 0 [52700/60000 (88%)]\tLoss: 0.819084\n",
            "Train Epoch: 0 [55800/60000 (93%)]\tLoss: 0.762307\n",
            "Train Epoch: 0 [58900/60000 (98%)]\tLoss: 0.510898\n",
            "\n",
            "Test set: Average loss: 0.0206, Accuracy: 8582/10000 (85.8200%)\n",
            "\n",
            "Train Epoch: 1 [0/60000 (0%)]\tLoss: 0.663657\n",
            "Train Epoch: 1 [3100/60000 (5%)]\tLoss: 0.784848\n",
            "Train Epoch: 1 [6200/60000 (10%)]\tLoss: 0.790398\n",
            "Train Epoch: 1 [9300/60000 (15%)]\tLoss: 0.584375\n",
            "Train Epoch: 1 [12400/60000 (21%)]\tLoss: 0.659960\n",
            "Train Epoch: 1 [15500/60000 (26%)]\tLoss: 0.466410\n",
            "Train Epoch: 1 [18600/60000 (31%)]\tLoss: 0.599907\n",
            "Train Epoch: 1 [21700/60000 (36%)]\tLoss: 0.679133\n",
            "Train Epoch: 1 [24800/60000 (41%)]\tLoss: 0.563809\n",
            "Train Epoch: 1 [27900/60000 (46%)]\tLoss: 0.452001\n",
            "Train Epoch: 1 [31000/60000 (52%)]\tLoss: 0.560888\n",
            "Train Epoch: 1 [34100/60000 (57%)]\tLoss: 0.383825\n",
            "Train Epoch: 1 [37200/60000 (62%)]\tLoss: 0.696380\n",
            "Train Epoch: 1 [40300/60000 (67%)]\tLoss: 0.544673\n",
            "Train Epoch: 1 [43400/60000 (72%)]\tLoss: 0.468609\n",
            "Train Epoch: 1 [46500/60000 (77%)]\tLoss: 0.543013\n",
            "Train Epoch: 1 [49600/60000 (83%)]\tLoss: 0.527320\n",
            "Train Epoch: 1 [52700/60000 (88%)]\tLoss: 0.779934\n",
            "Train Epoch: 1 [55800/60000 (93%)]\tLoss: 0.561262\n",
            "Train Epoch: 1 [58900/60000 (98%)]\tLoss: 0.331612\n",
            "\n",
            "Test set: Average loss: 0.0161, Accuracy: 8784/10000 (87.8400%)\n",
            "\n",
            "Train Epoch: 2 [0/60000 (0%)]\tLoss: 0.691181\n",
            "Train Epoch: 2 [3100/60000 (5%)]\tLoss: 0.446259\n",
            "Train Epoch: 2 [6200/60000 (10%)]\tLoss: 0.480420\n",
            "Train Epoch: 2 [9300/60000 (15%)]\tLoss: 0.547822\n",
            "Train Epoch: 2 [12400/60000 (21%)]\tLoss: 0.510598\n",
            "Train Epoch: 2 [15500/60000 (26%)]\tLoss: 0.429375\n",
            "Train Epoch: 2 [18600/60000 (31%)]\tLoss: 0.537431\n",
            "Train Epoch: 2 [21700/60000 (36%)]\tLoss: 0.466825\n",
            "Train Epoch: 2 [24800/60000 (41%)]\tLoss: 0.445806\n",
            "Train Epoch: 2 [27900/60000 (46%)]\tLoss: 0.364210\n",
            "Train Epoch: 2 [31000/60000 (52%)]\tLoss: 0.347539\n",
            "Train Epoch: 2 [34100/60000 (57%)]\tLoss: 0.440790\n",
            "Train Epoch: 2 [37200/60000 (62%)]\tLoss: 0.549119\n",
            "Train Epoch: 2 [40300/60000 (67%)]\tLoss: 0.425989\n",
            "Train Epoch: 2 [43400/60000 (72%)]\tLoss: 0.271763\n",
            "Train Epoch: 2 [46500/60000 (77%)]\tLoss: 0.526009\n",
            "Train Epoch: 2 [49600/60000 (83%)]\tLoss: 0.558010\n",
            "Train Epoch: 2 [52700/60000 (88%)]\tLoss: 0.597608\n",
            "Train Epoch: 2 [55800/60000 (93%)]\tLoss: 0.429080\n",
            "Train Epoch: 2 [58900/60000 (98%)]\tLoss: 0.269353\n",
            "\n",
            "Test set: Average loss: 0.0143, Accuracy: 8876/10000 (88.7600%)\n",
            "\n",
            "Train Epoch: 3 [0/60000 (0%)]\tLoss: 0.466646\n",
            "Train Epoch: 3 [3100/60000 (5%)]\tLoss: 0.673531\n",
            "Train Epoch: 3 [6200/60000 (10%)]\tLoss: 0.514897\n",
            "Train Epoch: 3 [9300/60000 (15%)]\tLoss: 0.355823\n",
            "Train Epoch: 3 [12400/60000 (21%)]\tLoss: 0.418258\n",
            "Train Epoch: 3 [15500/60000 (26%)]\tLoss: 0.484619\n",
            "Train Epoch: 3 [18600/60000 (31%)]\tLoss: 0.577295\n",
            "Train Epoch: 3 [21700/60000 (36%)]\tLoss: 0.502968\n",
            "Train Epoch: 3 [24800/60000 (41%)]\tLoss: 0.288775\n",
            "Train Epoch: 3 [27900/60000 (46%)]\tLoss: 0.284306\n",
            "Train Epoch: 3 [31000/60000 (52%)]\tLoss: 0.400154\n",
            "Train Epoch: 3 [34100/60000 (57%)]\tLoss: 0.419562\n",
            "Train Epoch: 3 [37200/60000 (62%)]\tLoss: 0.575348\n",
            "Train Epoch: 3 [40300/60000 (67%)]\tLoss: 0.456356\n",
            "Train Epoch: 3 [43400/60000 (72%)]\tLoss: 0.296199\n",
            "Train Epoch: 3 [46500/60000 (77%)]\tLoss: 0.513108\n",
            "Train Epoch: 3 [49600/60000 (83%)]\tLoss: 0.397482\n",
            "Train Epoch: 3 [52700/60000 (88%)]\tLoss: 0.296307\n",
            "Train Epoch: 3 [55800/60000 (93%)]\tLoss: 0.338469\n",
            "Train Epoch: 3 [58900/60000 (98%)]\tLoss: 0.652288\n",
            "\n",
            "Test set: Average loss: 0.0133, Accuracy: 8924/10000 (89.2400%)\n",
            "\n",
            "Train Epoch: 4 [0/60000 (0%)]\tLoss: 0.560975\n",
            "Train Epoch: 4 [3100/60000 (5%)]\tLoss: 0.796112\n",
            "Train Epoch: 4 [6200/60000 (10%)]\tLoss: 0.276861\n",
            "Train Epoch: 4 [9300/60000 (15%)]\tLoss: 0.297799\n",
            "Train Epoch: 4 [12400/60000 (21%)]\tLoss: 0.275853\n",
            "Train Epoch: 4 [15500/60000 (26%)]\tLoss: 0.550760\n",
            "Train Epoch: 4 [18600/60000 (31%)]\tLoss: 0.284808\n",
            "Train Epoch: 4 [21700/60000 (36%)]\tLoss: 0.310854\n",
            "Train Epoch: 4 [24800/60000 (41%)]\tLoss: 0.548114\n",
            "Train Epoch: 4 [27900/60000 (46%)]\tLoss: 0.552933\n",
            "Train Epoch: 4 [31000/60000 (52%)]\tLoss: 0.262388\n",
            "Train Epoch: 4 [34100/60000 (57%)]\tLoss: 0.341015\n",
            "Train Epoch: 4 [37200/60000 (62%)]\tLoss: 0.459901\n",
            "Train Epoch: 4 [40300/60000 (67%)]\tLoss: 0.487523\n",
            "Train Epoch: 4 [43400/60000 (72%)]\tLoss: 0.616002\n",
            "Train Epoch: 4 [46500/60000 (77%)]\tLoss: 0.333036\n",
            "Train Epoch: 4 [49600/60000 (83%)]\tLoss: 0.459491\n",
            "Train Epoch: 4 [52700/60000 (88%)]\tLoss: 0.355180\n",
            "Train Epoch: 4 [55800/60000 (93%)]\tLoss: 0.376763\n",
            "Train Epoch: 4 [58900/60000 (98%)]\tLoss: 0.465667\n",
            "\n",
            "Test set: Average loss: 0.0126, Accuracy: 8973/10000 (89.7300%)\n",
            "\n"
          ]
        }
      ],
      "source": [
        "## training the logistic model\n",
        "for i in range(Iterations):\n",
        "    train(model, optimizer,criterion,i)\n",
        "    test(model, criterion, test_loader, i) #Testing the the current CNN\n",
        "    torch.save(model,'mnist.pt')"
      ]
    },
    {
      "cell_type": "code",
      "execution_count": 10,
      "metadata": {
        "id": "pbSchcZGMpe6"
      },
      "outputs": [],
      "source": []
    },
    {
      "cell_type": "code",
      "execution_count": 10,
      "metadata": {
        "id": "pFQZIL7lwovd"
      },
      "outputs": [],
      "source": []
    },
    {
      "cell_type": "code",
      "execution_count": 10,
      "metadata": {
        "id": "9U3N0kUvxY2J"
      },
      "outputs": [],
      "source": []
    },
    {
      "cell_type": "code",
      "execution_count": 10,
      "metadata": {
        "id": "b_Nzm-0nzaXk"
      },
      "outputs": [],
      "source": []
    },
    {
      "cell_type": "code",
      "execution_count": 11,
      "metadata": {
        "colab": {
          "base_uri": "https://localhost:8080/"
        },
        "id": "oW0nKyhrzrA-",
        "outputId": "04725a46-83a7-44a8-a7f0-f1df4ac39c8c"
      },
      "outputs": [
        {
          "output_type": "stream",
          "name": "stdout",
          "text": [
            "Train Epoch: 0 [0/60000 (0%)]\tLoss: 2.371270\n",
            "Train Epoch: 0 [3100/60000 (5%)]\tLoss: 1.890470\n",
            "Train Epoch: 0 [6200/60000 (10%)]\tLoss: 1.649776\n",
            "Train Epoch: 0 [9300/60000 (15%)]\tLoss: 1.356679\n",
            "Train Epoch: 0 [12400/60000 (21%)]\tLoss: 1.390749\n",
            "Train Epoch: 0 [15500/60000 (26%)]\tLoss: 1.205911\n",
            "Train Epoch: 0 [18600/60000 (31%)]\tLoss: 0.934181\n",
            "Train Epoch: 0 [21700/60000 (36%)]\tLoss: 1.224912\n",
            "Train Epoch: 0 [24800/60000 (41%)]\tLoss: 1.123318\n",
            "Train Epoch: 0 [27900/60000 (46%)]\tLoss: 1.009500\n",
            "Train Epoch: 0 [31000/60000 (52%)]\tLoss: 0.713064\n",
            "Train Epoch: 0 [34100/60000 (57%)]\tLoss: 0.929472\n",
            "Train Epoch: 0 [37200/60000 (62%)]\tLoss: 0.820657\n",
            "Train Epoch: 0 [40300/60000 (67%)]\tLoss: 0.713153\n",
            "Train Epoch: 0 [43400/60000 (72%)]\tLoss: 0.778878\n",
            "Train Epoch: 0 [46500/60000 (77%)]\tLoss: 0.723041\n",
            "Train Epoch: 0 [49600/60000 (83%)]\tLoss: 0.647330\n",
            "Train Epoch: 0 [52700/60000 (88%)]\tLoss: 0.623356\n",
            "Train Epoch: 0 [55800/60000 (93%)]\tLoss: 0.661700\n",
            "Train Epoch: 0 [58900/60000 (98%)]\tLoss: 0.686161\n",
            "\n",
            "Test set: Average loss: 0.0213, Accuracy: 51145/60000 (85.2417%)\n",
            "\n",
            "\n",
            "Test set: Average loss: 0.0206, Accuracy: 8623/10000 (86.2300%)\n",
            "\n",
            "Train Epoch: 1 [0/60000 (0%)]\tLoss: 0.459183\n",
            "Train Epoch: 1 [3100/60000 (5%)]\tLoss: 0.605558\n",
            "Train Epoch: 1 [6200/60000 (10%)]\tLoss: 0.641909\n",
            "Train Epoch: 1 [9300/60000 (15%)]\tLoss: 0.579465\n",
            "Train Epoch: 1 [12400/60000 (21%)]\tLoss: 0.508949\n",
            "Train Epoch: 1 [15500/60000 (26%)]\tLoss: 0.771627\n",
            "Train Epoch: 1 [18600/60000 (31%)]\tLoss: 0.679282\n",
            "Train Epoch: 1 [21700/60000 (36%)]\tLoss: 0.533640\n",
            "Train Epoch: 1 [24800/60000 (41%)]\tLoss: 0.538873\n",
            "Train Epoch: 1 [27900/60000 (46%)]\tLoss: 0.356005\n",
            "Train Epoch: 1 [31000/60000 (52%)]\tLoss: 0.600342\n",
            "Train Epoch: 1 [34100/60000 (57%)]\tLoss: 0.541754\n",
            "Train Epoch: 1 [37200/60000 (62%)]\tLoss: 0.739199\n",
            "Train Epoch: 1 [40300/60000 (67%)]\tLoss: 0.674608\n",
            "Train Epoch: 1 [43400/60000 (72%)]\tLoss: 0.356063\n",
            "Train Epoch: 1 [46500/60000 (77%)]\tLoss: 0.842929\n",
            "Train Epoch: 1 [49600/60000 (83%)]\tLoss: 0.514840\n",
            "Train Epoch: 1 [52700/60000 (88%)]\tLoss: 0.421108\n",
            "Train Epoch: 1 [55800/60000 (93%)]\tLoss: 0.400215\n",
            "Train Epoch: 1 [58900/60000 (98%)]\tLoss: 0.726519\n",
            "\n",
            "Test set: Average loss: 0.0168, Accuracy: 52160/60000 (86.9333%)\n",
            "\n",
            "\n",
            "Test set: Average loss: 0.0160, Accuracy: 8782/10000 (87.8200%)\n",
            "\n",
            "Train Epoch: 2 [0/60000 (0%)]\tLoss: 0.415519\n",
            "Train Epoch: 2 [3100/60000 (5%)]\tLoss: 0.522068\n",
            "Train Epoch: 2 [6200/60000 (10%)]\tLoss: 0.483527\n",
            "Train Epoch: 2 [9300/60000 (15%)]\tLoss: 0.595961\n",
            "Train Epoch: 2 [12400/60000 (21%)]\tLoss: 0.690967\n",
            "Train Epoch: 2 [15500/60000 (26%)]\tLoss: 0.579501\n",
            "Train Epoch: 2 [18600/60000 (31%)]\tLoss: 0.323690\n",
            "Train Epoch: 2 [21700/60000 (36%)]\tLoss: 0.278335\n",
            "Train Epoch: 2 [24800/60000 (41%)]\tLoss: 0.493257\n",
            "Train Epoch: 2 [27900/60000 (46%)]\tLoss: 0.684271\n",
            "Train Epoch: 2 [31000/60000 (52%)]\tLoss: 0.586330\n",
            "Train Epoch: 2 [34100/60000 (57%)]\tLoss: 0.604837\n",
            "Train Epoch: 2 [37200/60000 (62%)]\tLoss: 0.405670\n",
            "Train Epoch: 2 [40300/60000 (67%)]\tLoss: 0.414355\n",
            "Train Epoch: 2 [43400/60000 (72%)]\tLoss: 0.333244\n",
            "Train Epoch: 2 [46500/60000 (77%)]\tLoss: 0.230130\n",
            "Train Epoch: 2 [49600/60000 (83%)]\tLoss: 0.428571\n",
            "Train Epoch: 2 [52700/60000 (88%)]\tLoss: 0.433241\n",
            "Train Epoch: 2 [55800/60000 (93%)]\tLoss: 0.510257\n",
            "Train Epoch: 2 [58900/60000 (98%)]\tLoss: 0.336784\n",
            "\n",
            "Test set: Average loss: 0.0150, Accuracy: 52826/60000 (88.0433%)\n",
            "\n",
            "\n",
            "Test set: Average loss: 0.0142, Accuracy: 8892/10000 (88.9200%)\n",
            "\n"
          ]
        }
      ],
      "source": [
        "model = SoftmaxRegressionModel(input_dim, output_dim)\n",
        "# definin which paramters to train only the CNN model parameters\n",
        "optimizer = torch.optim.SGD(model.parameters(),learning_rate)\n",
        "## training the logistic model\n",
        "for i in range(3):\n",
        "    train(model, optimizer,criterion,i)\n",
        "    test(model, criterion, train_loader, i) #Testing the the current CNN\n",
        "    test(model, criterion, test_loader, i) #Testing the the current CNN\n",
        "    torch.save(model,'mnist.pt')"
      ]
    },
    {
      "cell_type": "code",
      "execution_count": 12,
      "metadata": {
        "id": "RVaMt4It0_dN"
      },
      "outputs": [],
      "source": [
        "# L2 Regularization\n",
        "def train(model, optimizer,criterion,epoch):\n",
        "    model.train() # setting up for training\n",
        "    for batch_idx, (data, target) in enumerate(train_loader): # data contains the image and target contains the label = 0/1/2/3/4/5/6/7/8/9\n",
        "        data = data.view(-1, 28*28).requires_grad_()\n",
        "        optimizer.zero_grad() # setting gradient to zero\n",
        "        output = model(data) # forward\n",
        "        sums =0\n",
        "        for name, param in model.named_parameters():\n",
        "            sums = param.data.pow(2).sum()\n",
        "            break\n",
        "        loss = criterion(output, target) + 0.00005 * sums # loss computation\n",
        "        loss.backward() # back propagation here pytorch will take care of it\n",
        "        optimizer.step() # updating the weight values\n",
        "        if batch_idx % 100 == 0:\n",
        "            print('Train Epoch: {} [{}/{} ({:.0f}%)]\\tLoss: {:.6f}'.format(\n",
        "                epoch, batch_idx * len(data), len(train_loader.dataset),\n",
        "                100. * batch_idx / len(train_loader), loss.item()))"
      ]
    },
    {
      "cell_type": "code",
      "execution_count": 13,
      "metadata": {
        "colab": {
          "base_uri": "https://localhost:8080/"
        },
        "id": "d0i0k2XQ2Xqu",
        "outputId": "45eb3934-7347-40b1-86ae-eef8a14e061d"
      },
      "outputs": [
        {
          "output_type": "stream",
          "name": "stdout",
          "text": [
            "Train Epoch: 0 [0/60000 (0%)]\tLoss: 2.733225\n",
            "Train Epoch: 0 [3100/60000 (5%)]\tLoss: 2.001191\n",
            "Train Epoch: 0 [6200/60000 (10%)]\tLoss: 1.661482\n",
            "Train Epoch: 0 [9300/60000 (15%)]\tLoss: 1.256233\n",
            "Train Epoch: 0 [12400/60000 (21%)]\tLoss: 1.398032\n",
            "Train Epoch: 0 [15500/60000 (26%)]\tLoss: 1.243362\n",
            "Train Epoch: 0 [18600/60000 (31%)]\tLoss: 1.180142\n",
            "Train Epoch: 0 [21700/60000 (36%)]\tLoss: 0.990190\n",
            "Train Epoch: 0 [24800/60000 (41%)]\tLoss: 0.794583\n",
            "Train Epoch: 0 [27900/60000 (46%)]\tLoss: 1.018447\n",
            "Train Epoch: 0 [31000/60000 (52%)]\tLoss: 0.861440\n",
            "Train Epoch: 0 [34100/60000 (57%)]\tLoss: 0.778872\n",
            "Train Epoch: 0 [37200/60000 (62%)]\tLoss: 0.816043\n",
            "Train Epoch: 0 [40300/60000 (67%)]\tLoss: 0.759267\n",
            "Train Epoch: 0 [43400/60000 (72%)]\tLoss: 0.670397\n",
            "Train Epoch: 0 [46500/60000 (77%)]\tLoss: 0.714371\n",
            "Train Epoch: 0 [49600/60000 (83%)]\tLoss: 0.787143\n",
            "Train Epoch: 0 [52700/60000 (88%)]\tLoss: 0.800165\n",
            "Train Epoch: 0 [55800/60000 (93%)]\tLoss: 0.686135\n",
            "Train Epoch: 0 [58900/60000 (98%)]\tLoss: 0.605999\n",
            "\n",
            "Test set: Average loss: 0.0214, Accuracy: 51195/60000 (85.3250%)\n",
            "\n",
            "\n",
            "Test set: Average loss: 0.0207, Accuracy: 8630/10000 (86.3000%)\n",
            "\n",
            "Train Epoch: 1 [0/60000 (0%)]\tLoss: 0.703988\n",
            "Train Epoch: 1 [3100/60000 (5%)]\tLoss: 0.864582\n",
            "Train Epoch: 1 [6200/60000 (10%)]\tLoss: 0.404081\n",
            "Train Epoch: 1 [9300/60000 (15%)]\tLoss: 0.706024\n",
            "Train Epoch: 1 [12400/60000 (21%)]\tLoss: 0.449674\n",
            "Train Epoch: 1 [15500/60000 (26%)]\tLoss: 0.653831\n",
            "Train Epoch: 1 [18600/60000 (31%)]\tLoss: 0.710398\n",
            "Train Epoch: 1 [21700/60000 (36%)]\tLoss: 0.515495\n",
            "Train Epoch: 1 [24800/60000 (41%)]\tLoss: 0.546504\n",
            "Train Epoch: 1 [27900/60000 (46%)]\tLoss: 0.804092\n",
            "Train Epoch: 1 [31000/60000 (52%)]\tLoss: 0.840005\n",
            "Train Epoch: 1 [34100/60000 (57%)]\tLoss: 0.402326\n",
            "Train Epoch: 1 [37200/60000 (62%)]\tLoss: 0.684263\n",
            "Train Epoch: 1 [40300/60000 (67%)]\tLoss: 0.513811\n",
            "Train Epoch: 1 [43400/60000 (72%)]\tLoss: 0.646258\n",
            "Train Epoch: 1 [46500/60000 (77%)]\tLoss: 0.499422\n",
            "Train Epoch: 1 [49600/60000 (83%)]\tLoss: 0.499031\n",
            "Train Epoch: 1 [52700/60000 (88%)]\tLoss: 0.461623\n",
            "Train Epoch: 1 [55800/60000 (93%)]\tLoss: 0.526976\n",
            "Train Epoch: 1 [58900/60000 (98%)]\tLoss: 0.496951\n",
            "\n",
            "Test set: Average loss: 0.0168, Accuracy: 52214/60000 (87.0233%)\n",
            "\n",
            "\n",
            "Test set: Average loss: 0.0161, Accuracy: 8797/10000 (87.9700%)\n",
            "\n",
            "Train Epoch: 2 [0/60000 (0%)]\tLoss: 0.408962\n",
            "Train Epoch: 2 [3100/60000 (5%)]\tLoss: 0.696956\n",
            "Train Epoch: 2 [6200/60000 (10%)]\tLoss: 0.400161\n",
            "Train Epoch: 2 [9300/60000 (15%)]\tLoss: 0.424260\n",
            "Train Epoch: 2 [12400/60000 (21%)]\tLoss: 0.662199\n",
            "Train Epoch: 2 [15500/60000 (26%)]\tLoss: 0.611427\n",
            "Train Epoch: 2 [18600/60000 (31%)]\tLoss: 0.501642\n",
            "Train Epoch: 2 [21700/60000 (36%)]\tLoss: 0.545817\n",
            "Train Epoch: 2 [24800/60000 (41%)]\tLoss: 0.549617\n",
            "Train Epoch: 2 [27900/60000 (46%)]\tLoss: 0.479693\n",
            "Train Epoch: 2 [31000/60000 (52%)]\tLoss: 0.610697\n",
            "Train Epoch: 2 [34100/60000 (57%)]\tLoss: 0.668538\n",
            "Train Epoch: 2 [37200/60000 (62%)]\tLoss: 0.407816\n",
            "Train Epoch: 2 [40300/60000 (67%)]\tLoss: 0.322647\n",
            "Train Epoch: 2 [43400/60000 (72%)]\tLoss: 0.558925\n",
            "Train Epoch: 2 [46500/60000 (77%)]\tLoss: 0.340425\n",
            "Train Epoch: 2 [49600/60000 (83%)]\tLoss: 0.305859\n",
            "Train Epoch: 2 [52700/60000 (88%)]\tLoss: 0.458564\n",
            "Train Epoch: 2 [55800/60000 (93%)]\tLoss: 0.621629\n",
            "Train Epoch: 2 [58900/60000 (98%)]\tLoss: 0.643040\n",
            "\n",
            "Test set: Average loss: 0.0150, Accuracy: 52783/60000 (87.9717%)\n",
            "\n",
            "\n",
            "Test set: Average loss: 0.0143, Accuracy: 8895/10000 (88.9500%)\n",
            "\n"
          ]
        }
      ],
      "source": [
        "model = SoftmaxRegressionModel(input_dim, output_dim)\n",
        "# definin which paramters to train only the CNN model parameters\n",
        "optimizer = torch.optim.SGD(model.parameters(),learning_rate)\n",
        "## training the logistic model\n",
        "for i in range(3):\n",
        "    train(model, optimizer,criterion,i)\n",
        "    test(model, criterion, train_loader, i) #Testing the the current CNN\n",
        "    test(model, criterion, test_loader, i) #Testing the the current CNN\n",
        "    torch.save(model,'mnist.pt')"
      ]
    },
    {
      "cell_type": "code",
      "execution_count": null,
      "metadata": {
        "colab": {
          "background_save": true
        },
        "id": "cXgoY2Oe3tA4"
      },
      "outputs": [],
      "source": [
        "for name, param in model.named_parameters():\n",
        "    if param.requires_grad:\n",
        "        print (name, param.data)"
      ]
    },
    {
      "cell_type": "code",
      "execution_count": null,
      "metadata": {
        "id": "_DChLW8PYTKW"
      },
      "outputs": [],
      "source": []
    }
  ],
  "metadata": {
    "colab": {
      "provenance": []
    },
    "kernelspec": {
      "display_name": "Python 3",
      "name": "python3"
    },
    "language_info": {
      "name": "python"
    }
  },
  "nbformat": 4,
  "nbformat_minor": 0
}