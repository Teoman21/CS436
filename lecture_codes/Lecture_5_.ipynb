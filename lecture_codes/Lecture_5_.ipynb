{
  "cells": [
    {
      "cell_type": "code",
      "execution_count": 5,
      "metadata": {
        "id": "jTacRFtRPfkR"
      },
      "outputs": [],
      "source": [
        "# Importing the Module\n",
        "import random\n",
        "import torch\n",
        "import matplotlib.pyplot as plt\n"
      ]
    },
    {
      "cell_type": "code",
      "execution_count": 2,
      "metadata": {
        "id": "jUB4l7p8PxfL"
      },
      "outputs": [],
      "source": [
        "def synthetic_data(w, b, num_examples):\n",
        "  \"\"\"Generate y = Xw + b + noise.\"\"\"\n",
        "  X = torch.normal(0, 1, (num_examples, len(w)))\n",
        "  y = torch.matmul(X, w) + b\n",
        "  y += torch.normal(0, 0.01, y.shape)\n",
        "  return X, y.reshape((-1, 1))"
      ]
    },
    {
      "cell_type": "code",
      "execution_count": 3,
      "metadata": {
        "colab": {
          "base_uri": "https://localhost:8080/"
        },
        "id": "af-vT9hkP8NK",
        "outputId": "a1270ce3-10f3-4784-9553-b5badea05be6"
      },
      "outputs": [
        {
          "name": "stdout",
          "output_type": "stream",
          "text": [
            "features: tensor([-0.8834]) \n",
            "label: tensor([2.4464])\n"
          ]
        }
      ],
      "source": [
        "# generating the dataset\n",
        "true_w = torch.tensor([2.0])\n",
        "true_b = 4.2\n",
        "features, labels = synthetic_data(true_w, true_b, 1000)\n",
        "print('features:', features[0], '\\nlabel:', labels[0])\n"
      ]
    },
    {
      "cell_type": "code",
      "execution_count": 4,
      "metadata": {
        "colab": {
          "base_uri": "https://localhost:8080/",
          "height": 447
        },
        "id": "1V-DYYYpQY0U",
        "outputId": "1be46a48-091b-4896-9eff-20a23557f310"
      },
      "outputs": [
        {
          "data": {
            "text/plain": [
              "<matplotlib.collections.PathCollection at 0x1428a8760>"
            ]
          },
          "execution_count": 4,
          "metadata": {},
          "output_type": "execute_result"
        },
        {
          "data": {
            "image/png": "[encoded data removed]",
            "text/plain": [
              "<Figure size 640x480 with 1 Axes>"
            ]
          },
          "metadata": {},
          "output_type": "display_data"
        }
      ],
      "source": [
        "plt.scatter(features[:, (0)].detach().numpy(),\n",
        "labels.detach().numpy(), 1)"
      ]
    },
    {
      "cell_type": "code",
      "execution_count": 5,
      "metadata": {
        "colab": {
          "base_uri": "https://localhost:8080/"
        },
        "id": "j493-SwERHh3",
        "outputId": "cd12954d-c3cd-47b5-bb5e-b865261eb7ec"
      },
      "outputs": [
        {
          "data": {
            "text/plain": [
              "torch.Tensor"
            ]
          },
          "execution_count": 5,
          "metadata": {},
          "output_type": "execute_result"
        }
      ],
      "source": [
        "# initializing the model\n",
        "Theta_1 = torch.normal(0, 0.01, size=(1, 1), requires_grad=True)\n",
        "\n",
        "\n",
        "Theta_0 = torch.zeros(1, requires_grad=True)\n",
        "type(Theta_1)"
      ]
    },
    {
      "cell_type": "code",
      "execution_count": 11,
      "metadata": {
        "colab": {
          "base_uri": "https://localhost:8080/"
        },
        "id": "me97kddyRmYy",
        "outputId": "7980ef51-524d-45af-9293-49dea791e1d3"
      },
      "outputs": [
        {
          "name": "stdout",
          "output_type": "stream",
          "text": [
            "tensor([[-0.0137],\n",
            "        [-0.0137],\n",
            "        [-0.0137],\n",
            "        [-0.0137],\n",
            "        [-0.0137],\n",
            "        [-0.0137],\n",
            "        [-0.0137],\n",
            "        [-0.0137],\n",
            "        [-0.0137],\n",
            "        [-0.0137],\n",
            "        [-0.0137],\n",
            "        [-0.0137],\n",
            "        [-0.0137],\n",
            "        [-0.0137],\n",
            "        [-0.0137],\n",
            "        [-0.0137],\n",
            "        [-0.0137],\n",
            "        [-0.0137],\n",
            "        [-0.0137],\n",
            "        [-0.0137],\n",
            "        [-0.0137],\n",
            "        [-0.0137],\n",
            "        [-0.0137],\n",
            "        [-0.0137],\n",
            "        [-0.0137],\n",
            "        [-0.0137],\n",
            "        [-0.0137],\n",
            "        [-0.0137],\n",
            "        [-0.0137],\n",
            "        [-0.0137],\n",
            "        [-0.0137]], grad_fn=<AddBackward0>)\n"
          ]
        }
      ],
      "source": [
        "# forward\n",
        "def linreg(X, theta_1, theta_0):\n",
        "  \"\"\"The linear regression model.\"\"\"\n",
        "\n",
        "  return torch.matmul(X, theta_1) + theta_0\n",
        "\n",
        "X = torch.ones([31,1]).float()\n",
        "print(linreg(X,Theta_1,Theta_0))"
      ]
    },
    {
      "cell_type": "code",
      "execution_count": 12,
      "metadata": {
        "id": "lSpIr5mkR8zw"
      },
      "outputs": [],
      "source": [
        "# Computing the MSE\n",
        "def MSE_loss(y_out, y_true):\n",
        "  \"\"\"Squared loss.\"\"\"\n",
        "  return (y_out - y_true.reshape(y_out.shape))**2 / 2"
      ]
    },
    {
      "cell_type": "code",
      "execution_count": 7,
      "metadata": {
        "id": "QEGlC7LiSJsH"
      },
      "outputs": [],
      "source": [
        "# defining the learning algorithm\n",
        "def sgd(params, lr, batch_size):\n",
        "  \"\"\"Minibatch stochastic gradient descent.\"\"\"\n",
        "  with torch.no_grad():\n",
        "    for param in params:\n",
        "      param -= lr * param.grad / batch_size\n",
        "      param.grad.zero_()\n"
      ]
    },
    {
      "cell_type": "code",
      "execution_count": 8,
      "metadata": {
        "colab": {
          "base_uri": "https://localhost:8080/"
        },
        "id": "F5_-YQu4TGMQ",
        "outputId": "1db75d94-0713-493b-d982-60ed7e762c28"
      },
      "outputs": [
        {
          "name": "stdout",
          "output_type": "stream",
          "text": [
            "tensor([[ 0.2741],\n",
            "        [-0.6084],\n",
            "        [ 0.2962],\n",
            "        [ 0.7533],\n",
            "        [ 1.5161],\n",
            "        [ 0.3513],\n",
            "        [ 0.5941],\n",
            "        [-1.2917],\n",
            "        [ 1.1441],\n",
            "        [-0.3373]]) \n",
            " tensor([[4.7543],\n",
            "        [2.9633],\n",
            "        [4.8066],\n",
            "        [5.7112],\n",
            "        [7.2007],\n",
            "        [4.9159],\n",
            "        [5.3908],\n",
            "        [1.6234],\n",
            "        [6.4820],\n",
            "        [3.5199]])\n",
            "<class 'torch.Tensor'> <class 'torch.Tensor'>\n"
          ]
        }
      ],
      "source": [
        "# data preperation\n",
        "def data_iter(batch_size, features, labels):\n",
        "  num_examples = len(features)\n",
        "  indices = list(range(num_examples))\n",
        "  # The examples are read at random, in no particular order\n",
        "  random.shuffle(indices)\n",
        "  for i in range(0, num_examples, batch_size):\n",
        "    batch_indices = torch.tensor(indices[i:min(i +\n",
        "    batch_size, num_examples)])\n",
        "  yield features[batch_indices], labels[batch_indices]\n",
        "batch_size = 10\n",
        "for X, y in data_iter(batch_size, features, labels):\n",
        "  print(X, '\\n', y)\n",
        "  print(type(X),type(y))\n",
        "  break"
      ]
    },
    {
      "cell_type": "code",
      "execution_count": 9,
      "metadata": {
        "id": "KBYnQUE1TbvC"
      },
      "outputs": [
        {
          "ename": "NameError",
          "evalue": "name 'linreg' is not defined",
          "output_type": "error",
          "traceback": [
            "\u001b[0;31m---------------------------------------------------------------------------\u001b[0m",
            "\u001b[0;31mNameError\u001b[0m                                 Traceback (most recent call last)",
            "Cell \u001b[0;32mIn[9], line 4\u001b[0m\n\u001b[1;32m      2\u001b[0m lr \u001b[38;5;241m=\u001b[39m \u001b[38;5;241m0.05\u001b[39m\n\u001b[1;32m      3\u001b[0m num_epochs \u001b[38;5;241m=\u001b[39m \u001b[38;5;241m100\u001b[39m\n\u001b[0;32m----> 4\u001b[0m net \u001b[38;5;241m=\u001b[39m \u001b[43mlinreg\u001b[49m\n\u001b[1;32m      5\u001b[0m loss \u001b[38;5;241m=\u001b[39m MSE_loss\n",
            "\u001b[0;31mNameError\u001b[0m: name 'linreg' is not defined"
          ]
        }
      ],
      "source": [
        "# hyper_paramters\n",
        "lr = 0.05\n",
        "num_epochs = 100\n",
        "net = linreg\n",
        "loss = MSE_loss\n"
      ]
    },
    {
      "cell_type": "code",
      "execution_count": 11,
      "metadata": {
        "colab": {
          "base_uri": "https://localhost:8080/"
        },
        "id": "IQYcqOjpT05w",
        "outputId": "f67a10c5-7607-45bc-bcb3-6b0ffa9f42a0"
      },
      "outputs": [
        {
          "name": "stdout",
          "output_type": "stream",
          "text": [
            "epoch 1, loss 9.841553\n",
            "epoch 2, loss 9.007221\n",
            "epoch 3, loss 8.244240\n",
            "epoch 4, loss 7.498123\n",
            "epoch 5, loss 6.744645\n",
            "epoch 6, loss 6.082262\n",
            "epoch 7, loss 5.255420\n",
            "epoch 8, loss 4.604714\n",
            "epoch 9, loss 4.040536\n",
            "epoch 10, loss 3.734002\n",
            "epoch 11, loss 3.432681\n",
            "epoch 12, loss 3.138731\n",
            "epoch 13, loss 2.785035\n",
            "epoch 14, loss 2.555816\n",
            "epoch 15, loss 2.314712\n",
            "epoch 16, loss 2.114892\n",
            "epoch 17, loss 1.896651\n",
            "epoch 18, loss 1.741475\n",
            "epoch 19, loss 1.534095\n",
            "epoch 20, loss 1.359355\n",
            "epoch 21, loss 1.172327\n",
            "epoch 22, loss 1.069283\n",
            "epoch 23, loss 0.977522\n",
            "epoch 24, loss 0.872855\n",
            "epoch 25, loss 0.773360\n",
            "epoch 26, loss 0.713038\n",
            "epoch 27, loss 0.613635\n",
            "epoch 28, loss 0.556468\n",
            "epoch 29, loss 0.491319\n",
            "epoch 30, loss 0.452651\n",
            "epoch 31, loss 0.431448\n",
            "epoch 32, loss 0.383296\n",
            "epoch 33, loss 0.330668\n",
            "epoch 34, loss 0.306662\n",
            "epoch 35, loss 0.273173\n",
            "epoch 36, loss 0.245182\n",
            "epoch 37, loss 0.229824\n",
            "epoch 38, loss 0.197955\n",
            "epoch 39, loss 0.179104\n",
            "epoch 40, loss 0.159061\n",
            "epoch 41, loss 0.136780\n",
            "epoch 42, loss 0.125126\n",
            "epoch 43, loss 0.115271\n",
            "epoch 44, loss 0.104549\n",
            "epoch 45, loss 0.095849\n",
            "epoch 46, loss 0.087053\n",
            "epoch 47, loss 0.078833\n",
            "epoch 48, loss 0.069179\n",
            "epoch 49, loss 0.061909\n",
            "epoch 50, loss 0.058066\n",
            "epoch 51, loss 0.052595\n",
            "epoch 52, loss 0.047118\n",
            "epoch 53, loss 0.041451\n",
            "epoch 54, loss 0.037497\n",
            "epoch 55, loss 0.031804\n",
            "epoch 56, loss 0.028019\n",
            "epoch 57, loss 0.025526\n",
            "epoch 58, loss 0.022232\n",
            "epoch 59, loss 0.019737\n",
            "epoch 60, loss 0.018495\n",
            "epoch 61, loss 0.016995\n",
            "epoch 62, loss 0.014273\n",
            "epoch 63, loss 0.013206\n",
            "epoch 64, loss 0.011776\n",
            "epoch 65, loss 0.010420\n",
            "epoch 66, loss 0.009553\n",
            "epoch 67, loss 0.008439\n",
            "epoch 68, loss 0.007801\n",
            "epoch 69, loss 0.007375\n",
            "epoch 70, loss 0.006623\n",
            "epoch 71, loss 0.005911\n",
            "epoch 72, loss 0.005372\n",
            "epoch 73, loss 0.004617\n",
            "epoch 74, loss 0.004244\n",
            "epoch 75, loss 0.003834\n",
            "epoch 76, loss 0.003437\n",
            "epoch 77, loss 0.003037\n",
            "epoch 78, loss 0.002670\n",
            "epoch 79, loss 0.002418\n",
            "epoch 80, loss 0.002206\n",
            "epoch 81, loss 0.002026\n",
            "epoch 82, loss 0.001850\n",
            "epoch 83, loss 0.001705\n",
            "epoch 84, loss 0.001591\n",
            "epoch 85, loss 0.001407\n",
            "epoch 86, loss 0.001311\n",
            "epoch 87, loss 0.001174\n",
            "epoch 88, loss 0.001059\n",
            "epoch 89, loss 0.000981\n",
            "epoch 90, loss 0.000863\n",
            "epoch 91, loss 0.000771\n",
            "epoch 92, loss 0.000709\n",
            "epoch 93, loss 0.000648\n",
            "epoch 94, loss 0.000600\n",
            "epoch 95, loss 0.000528\n",
            "epoch 96, loss 0.000486\n",
            "epoch 97, loss 0.000446\n",
            "epoch 98, loss 0.000406\n",
            "epoch 99, loss 0.000356\n",
            "epoch 100, loss 0.000331\n",
            "tensor([4.1784], requires_grad=True) tensor([[1.9907]], requires_grad=True)\n"
          ]
        }
      ],
      "source": [
        "for epoch in range(num_epochs):\n",
        "\n",
        "  for X, y in data_iter(batch_size, features, labels):\n",
        "\n",
        "    l = loss(net(X, Theta_1, Theta_0), y) # Minibatch loss in `X` and `y`\n",
        "    # Compute gradient on `l` with respect to [`theta1`, `theta0`]\n",
        "    l.sum().backward()\n",
        "    sgd([Theta_1, Theta_0], lr, batch_size) # Update parameters using their gradient\n",
        "    with torch.no_grad():\n",
        "      train_l = loss(net(features, Theta_1, Theta_0), labels)\n",
        "      print(f'epoch {epoch + 1}, loss {float(train_l.mean()):f}')\n",
        "\n",
        "print(Theta_0,Theta_1)"
      ]
    },
    {
      "cell_type": "code",
      "execution_count": null,
      "metadata": {
        "id": "msZNBFmcUHWA"
      },
      "outputs": [],
      "source": []
    },
    {
      "cell_type": "code",
      "execution_count": 10,
      "metadata": {
        "colab": {
          "base_uri": "https://localhost:8080/",
          "height": 447
        },
        "id": "u5dcVNRTYFV1",
        "outputId": "add63530-988d-4af6-914e-b6bed4406eca"
      },
      "outputs": [
        {
          "ename": "NameError",
          "evalue": "name 'net' is not defined",
          "output_type": "error",
          "traceback": [
            "\u001b[0;31m---------------------------------------------------------------------------\u001b[0m",
            "\u001b[0;31mNameError\u001b[0m                                 Traceback (most recent call last)",
            "Cell \u001b[0;32mIn[10], line 4\u001b[0m\n\u001b[1;32m      1\u001b[0m plt\u001b[38;5;241m.\u001b[39mscatter(features[:, (\u001b[38;5;241m0\u001b[39m)]\u001b[38;5;241m.\u001b[39mdetach()\u001b[38;5;241m.\u001b[39mnumpy(),\n\u001b[1;32m      2\u001b[0m labels\u001b[38;5;241m.\u001b[39mdetach()\u001b[38;5;241m.\u001b[39mnumpy(), \u001b[38;5;241m1\u001b[39m)\n\u001b[1;32m      3\u001b[0m plt\u001b[38;5;241m.\u001b[39mscatter(features[:, (\u001b[38;5;241m0\u001b[39m)]\u001b[38;5;241m.\u001b[39mdetach()\u001b[38;5;241m.\u001b[39mnumpy(),\n\u001b[0;32m----> 4\u001b[0m \u001b[43mnet\u001b[49m(features, Theta_1, Theta_0)\u001b[38;5;241m.\u001b[39mdetach()\u001b[38;5;241m.\u001b[39mnumpy(), \u001b[38;5;241m1\u001b[39m)\n",
            "\u001b[0;31mNameError\u001b[0m: name 'net' is not defined"
          ]
        },
        {
          "data": {
            "image/png": "[encoded data removed]",
            "text/plain": [
              "<Figure size 640x480 with 1 Axes>"
            ]
          },
          "metadata": {},
          "output_type": "display_data"
        }
      ],
      "source": [
        "plt.scatter(features[:, (0)].detach().numpy(),\n",
        "labels.detach().numpy(), 1)\n",
        "plt.scatter(features[:, (0)].detach().numpy(),\n",
        "net(features, Theta_1, Theta_0).detach().numpy(), 1)\n"
      ]
    },
    {
      "cell_type": "code",
      "execution_count": null,
      "metadata": {
        "id": "zmQoUpO5PRa1"
      },
      "outputs": [],
      "source": []
    }
  ],
  "metadata": {
    "colab": {
      "provenance": []
    },
    "kernelspec": {
      "display_name": "Python 3",
      "name": "python3"
    },
    "language_info": {
      "codemirror_mode": {
        "name": "ipython",
        "version": 3
      },
      "file_extension": ".py",
      "mimetype": "text/x-python",
      "name": "python",
      "nbconvert_exporter": "python",
      "pygments_lexer": "ipython3",
      "version": "3.9.6"
    }
  },
  "nbformat": 4,
  "nbformat_minor": 0
}
